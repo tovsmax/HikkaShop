{
  "nbformat": 4,
  "nbformat_minor": 0,
  "metadata": {
    "colab": {
      "name": "hikkaShop.ipynb",
      "provenance": [],
      "collapsed_sections": []
    },
    "kernelspec": {
      "display_name": "Python 3",
      "name": "python3"
    },
    "language_info": {
      "codemirror_mode": {
        "name": "ipython",
        "version": 3
      },
      "file_extension": ".py",
      "mimetype": "text/x-python",
      "name": "python",
      "nbconvert_exporter": "python",
      "pygments_lexer": "ipython3",
      "version": "3.9.6"
    }
  },
  "cells": [
    {
      "cell_type": "markdown",
      "metadata": {
        "id": "QZ9jL7Modxw6"
      },
      "source": [
        "# Установка бібліотек"
      ]
    },
    {
      "cell_type": "code",
      "metadata": {
        "colab": {
          "base_uri": "https://localhost:8080/"
        },
        "id": "QNKdiLZOdxDP",
        "outputId": "cdc6ea6a-9222-46fa-a309-51dcf3fb4704"
      },
      "source": [
        "!pip install urllib\n",
        "!pip install requests"
      ],
      "execution_count": null,
      "outputs": [
        {
          "name": "stderr",
          "output_type": "stream",
          "text": [
            "WARNING: Ignoring invalid distribution -ip (d:\\dev\\python 3.9.0\\lib\\site-packages)\n",
            "WARNING: Ignoring invalid distribution -ip (d:\\dev\\python 3.9.0\\lib\\site-packages)\n",
            "ERROR: Could not find a version that satisfies the requirement urllib (from versions: none)\n",
            "ERROR: No matching distribution found for urllib\n",
            "WARNING: Ignoring invalid distribution -ip (d:\\dev\\python 3.9.0\\lib\\site-packages)\n",
            "WARNING: Ignoring invalid distribution -ip (d:\\dev\\python 3.9.0\\lib\\site-packages)\n",
            "WARNING: Ignoring invalid distribution -ip (d:\\dev\\python 3.9.0\\lib\\site-packages)\n",
            "WARNING: You are using pip version 21.1.3; however, version 21.3.1 is available.\n",
            "You should consider upgrading via the 'd:\\dev\\python 3.9.0\\python.exe -m pip install --upgrade pip' command.\n"
          ]
        },
        {
          "name": "stdout",
          "output_type": "stream",
          "text": [
            "Requirement already satisfied: requests in d:\\dev\\python 3.9.0\\lib\\site-packages (2.25.1)\n",
            "Requirement already satisfied: idna<3,>=2.5 in d:\\dev\\python 3.9.0\\lib\\site-packages (from requests) (2.10)\n",
            "Requirement already satisfied: urllib3<1.27,>=1.21.1 in d:\\dev\\python 3.9.0\\lib\\site-packages (from requests) (1.26.5)\n",
            "Requirement already satisfied: certifi>=2017.4.17 in d:\\dev\\python 3.9.0\\lib\\site-packages (from requests) (2021.5.30)\n",
            "Requirement already satisfied: chardet<5,>=3.0.2 in d:\\dev\\python 3.9.0\\lib\\site-packages (from requests) (4.0.0)\n"
          ]
        },
        {
          "name": "stderr",
          "output_type": "stream",
          "text": [
            "WARNING: Ignoring invalid distribution -ip (d:\\dev\\python 3.9.0\\lib\\site-packages)\n",
            "WARNING: Ignoring invalid distribution -ip (d:\\dev\\python 3.9.0\\lib\\site-packages)\n",
            "WARNING: Ignoring invalid distribution -ip (d:\\dev\\python 3.9.0\\lib\\site-packages)\n",
            "WARNING: Ignoring invalid distribution -ip (d:\\dev\\python 3.9.0\\lib\\site-packages)\n",
            "WARNING: Ignoring invalid distribution -ip (d:\\dev\\python 3.9.0\\lib\\site-packages)\n",
            "WARNING: Ignoring invalid distribution -ip (d:\\dev\\python 3.9.0\\lib\\site-packages)\n",
            "WARNING: You are using pip version 21.1.3; however, version 21.3.1 is available.\n",
            "You should consider upgrading via the 'd:\\dev\\python 3.9.0\\python.exe -m pip install --upgrade pip' command.\n"
          ]
        }
      ]
    },
    {
      "cell_type": "markdown",
      "metadata": {
        "id": "2Plh9mbeaBcv"
      },
      "source": [
        "# Модуль обробки природної мови (NLP)"
      ]
    },
    {
      "cell_type": "markdown",
      "metadata": {
        "id": "QJWyYIWCj4hv"
      },
      "source": [
        "## Використання Waifu AI Api"
      ]
    },
    {
      "cell_type": "code",
      "metadata": {
        "id": "3hvSd8SLcG4c"
      },
      "source": [
        "import requests as re\n",
        "import urllib.parse\n",
        "import Keys\n",
        "\n",
        "def get_response(from_name, to_name, situation, user_id, message):\n",
        "  data_params = {\n",
        "    \"from_name\": from_name,\n",
        "    \"to_name\": to_name,\n",
        "    \"situation\": situation,\n",
        "    \"message\": message,\n",
        "\n",
        "    \"user_id\": user_id,\n",
        "    \"preset_mode\": \"waifu\",\n",
        "    \"translate_from\": \"uk\",\n",
        "  }\n",
        "\n",
        "  def strTransform(params):\n",
        "      res = \"\"\n",
        "      for param, value in params.items():\n",
        "          res += param+\"=\"+urllib.parse.quote(value)+\"&\"\n",
        "      return res[:len(res)-1]\n",
        "\n",
        "  params = {\n",
        "      \"url\": \"https://waifu-ai.p.rapidapi.com/path\",\n",
        "      \"headers\": {\n",
        "          'content-type': 'application/x-www-form-urlencoded',\n",
        "          'x-rapidapi-host': 'waifu-ai.p.rapidapi.com',\n",
        "          'x-rapidapi-key': Keys.keyMax\n",
        "      },\n",
        "      \"data\": strTransform(data_params)\n",
        "  }\n",
        "  \n",
        "  response = re.post(**params)\n",
        "  return response.text"
      ],
      "execution_count": null,
      "outputs": []
    },
    {
      "cell_type": "markdown",
      "metadata": {
        "id": "TwPD_yRKXerB"
      },
      "source": [
        "## Створення логфайлу бесіди"
      ]
    },
    {
      "cell_type": "code",
      "metadata": {
        "id": "NJLaY28BXerB"
      },
      "source": [
        "def logOutput(log):\n",
        "  from datetime import datetime\n",
        "  now = datetime.now().strftime(\"%Y-%m-%d_%H.%M.%S\")\n",
        "  with open(\"logfiles/\"+now+\".txt\", \"a\", encoding=\"UTF-8\") as ouf:\n",
        "    ouf.write(log)"
      ],
      "execution_count": null,
      "outputs": []
    },
    {
      "cell_type": "markdown",
      "metadata": {
        "id": "J4WbBKmNZ3KU"
      },
      "source": [
        "## Генерація user_id"
      ]
    },
    {
      "cell_type": "code",
      "metadata": {
        "colab": {
          "base_uri": "https://localhost:8080/",
          "height": 35
        },
        "id": "ItbCfE0g1NQR",
        "outputId": "3633d8d4-7951-4f87-f7d8-b7c581510b73"
      },
      "source": [
        "import string\n",
        "import random\n",
        "alnum = string.ascii_letters + string.digits\n",
        "user_id = ''.join(random.choice(alnum) for i in range(64))\n",
        "print(user_id)"
      ],
      "execution_count": null,
      "outputs": [
        {
          "data": {
            "application/vnd.google.colaboratory.intrinsic+json": {
              "type": "string"
            },
            "text/plain": [
              "'N2UkvFxvvq7Rb0RzZKmeAGsIi0x1zAUfic1UleLNpcSCFZLAbXIDxS9DBXRccevN'"
            ]
          },
          "execution_count": 1,
          "metadata": {},
          "output_type": "execute_result"
        }
      ]
    },
    {
      "cell_type": "markdown",
      "metadata": {
        "id": "7Vvt-OdgeeuS"
      },
      "source": [
        "## Вхідні дані розмови"
      ]
    },
    {
      "cell_type": "code",
      "metadata": {
        "id": "j9vj_Sy4feHj"
      },
      "source": [
        "#@title { run: \"auto\", form-width: \"80%\" }\n",
        "from_name = \"Тарас-кун\" #@param {type: \"raw\"}\n",
        "to_name =   \"Акено-тян\" #@param {type: \"raw\"}\n",
        "situation = \"Акено-тян продає аніме-товари в магазині.\" #@param {type: \"raw\"}"
      ],
      "execution_count": null,
      "outputs": []
    },
    {
      "cell_type": "code",
      "metadata": {
        "id": "fcknEe8Thpi9",
        "outputId": "a6e2170e-fa9a-4f2a-8c42-ce42a54784a7",
        "colab": {
          "base_uri": "https://localhost:8080/",
          "height": 367
        }
      },
      "source": [
        "from product_list import product_list\n",
        "\n",
        "for product, qnty, price in product_list:\n",
        "  print(product, qnty, price)\n",
        "\n",
        "# def update_product_list(product_list):\n"
      ],
      "execution_count": 7,
      "outputs": [
        {
          "output_type": "error",
          "ename": "ModuleNotFoundError",
          "evalue": "ignored",
          "traceback": [
            "\u001b[0;31m---------------------------------------------------------------------------\u001b[0m",
            "\u001b[0;31mModuleNotFoundError\u001b[0m                       Traceback (most recent call last)",
            "\u001b[0;32m<ipython-input-7-3d9518b7e5ff>\u001b[0m in \u001b[0;36m<module>\u001b[0;34m()\u001b[0m\n\u001b[0;32m----> 1\u001b[0;31m \u001b[0;32mfrom\u001b[0m \u001b[0mproduct_list\u001b[0m \u001b[0;32mimport\u001b[0m \u001b[0mproduct_list\u001b[0m\u001b[0;34m\u001b[0m\u001b[0;34m\u001b[0m\u001b[0m\n\u001b[0m\u001b[1;32m      2\u001b[0m \u001b[0;34m\u001b[0m\u001b[0m\n\u001b[1;32m      3\u001b[0m \u001b[0;32mfor\u001b[0m \u001b[0mproduct\u001b[0m\u001b[0;34m,\u001b[0m \u001b[0mqnty\u001b[0m\u001b[0;34m,\u001b[0m \u001b[0mprice\u001b[0m \u001b[0;32min\u001b[0m \u001b[0mproduct_list\u001b[0m\u001b[0;34m:\u001b[0m\u001b[0;34m\u001b[0m\u001b[0;34m\u001b[0m\u001b[0m\n\u001b[1;32m      4\u001b[0m   \u001b[0mprint\u001b[0m\u001b[0;34m(\u001b[0m\u001b[0mproduct\u001b[0m\u001b[0;34m,\u001b[0m \u001b[0mqnty\u001b[0m\u001b[0;34m,\u001b[0m \u001b[0mprice\u001b[0m\u001b[0;34m)\u001b[0m\u001b[0;34m\u001b[0m\u001b[0;34m\u001b[0m\u001b[0m\n\u001b[1;32m      5\u001b[0m \u001b[0;34m\u001b[0m\u001b[0m\n",
            "\u001b[0;31mModuleNotFoundError\u001b[0m: No module named 'product_list'",
            "",
            "\u001b[0;31m---------------------------------------------------------------------------\u001b[0;32m\nNOTE: If your import is failing due to a missing package, you can\nmanually install dependencies using either !pip or !apt.\n\nTo view examples of installing some common dependencies, click the\n\"Open Examples\" button below.\n\u001b[0;31m---------------------------------------------------------------------------\u001b[0m\n"
          ],
          "errorDetails": {
            "actions": [
              {
                "action": "open_url",
                "actionText": "Open Examples",
                "url": "/notebooks/snippets/importing_libraries.ipynb"
              }
            ]
          }
        }
      ]
    },
    {
      "cell_type": "markdown",
      "metadata": {
        "id": "erpKVNYtXerF"
      },
      "source": [
        "## Надсилання повідомлень"
      ]
    },
    {
      "cell_type": "code",
      "metadata": {
        "colab": {
          "base_uri": "https://localhost:8080/"
        },
        "id": "LqM-Sa_Kf0Ij",
        "outputId": "a1685a4f-4e69-48b6-dab0-102fc9e772c7"
      },
      "source": [
        "log = f\"\"\"from_name = {from_name}\n",
        "to_name   = {to_name}\n",
        "situation = {situation}\n",
        "user_id   = {user_id}\n",
        "---\\n\n",
        "\"\"\"\n",
        "\n",
        "while(True):\n",
        "  message = input(f\"{from_name}: \")\n",
        "  log += f\"{from_name}: {message}\\n\"\n",
        "  response = get_response(\n",
        "    from_name = from_name,\n",
        "    to_name   = to_name,\n",
        "    situation = situation,\n",
        "    user_id   = user_id,\n",
        "    message   = message\n",
        "  )\n",
        "\n",
        "  print(f'{to_name}: {response}')\n",
        "  log += f'{to_name}: {response}\\n'\n",
        "\n",
        "  if (message == \"Пока!\"):\n",
        "    logOutput(log)\n",
        "    break"
      ],
      "execution_count": null,
      "outputs": [
        {
          "name": "stdout",
          "output_type": "stream",
          "text": [
            "Акено-тян: Вау! Хто ти?! Ви більше не повинні показувати тут своє обличчя!!\n",
            "Акено-тян: Так, привіт!\n",
            "Акено-тян: Пам&#39;ятати тебе? У жодному разі. Це було три роки тому чи щось таке.\n",
            "Акено-тян: Гм, дайте мені побачити... це не було нічого важливого...\n",
            "Акено-тян: так. Чому?\n",
            "Акено-тян: Добре, добре. Гм, чому б тобі не прийти сюди і не дізнатися?\n"
          ]
        }
      ]
    }
  ]
}